{
 "cells": [
  {
   "cell_type": "markdown",
   "id": "edf686c5-4a87-4aad-997a-cc96dd902eb0",
   "metadata": {},
   "source": [
    "# BIOPYTHON\n",
    "Biopython provides modules for biological data.<br>\n",
    "\n",
    "For beginners, focus on:<br>\n",
    "**Bio.Seq**: Manipulate DNA, RNA, and protein sequences.<br>\n",
    "**Bio.SeqIO**: Read/write sequence files (e.g., FASTA, GenBank).<br>\n",
    "**Bio.Entrez**: Access NCBI databases for real biological data.<br>\n",
    "**Bio.SeqUtils**: Analyze sequences (e.g., GC content).<br>"
   ]
  },
  {
   "cell_type": "code",
   "execution_count": 22,
   "id": "31897fc1-7e56-4d9c-8302-f3b4c62ba03e",
   "metadata": {},
   "outputs": [
    {
     "name": "stdout",
     "output_type": "stream",
     "text": [
      "DNA:  ATGCGTACG\n",
      "RNA:  AUGCGUACG\n",
      "Protein:  MRT\n",
      "Complement:  TACGCATGC\n",
      "Reverse Complement:  CGTACGCAT\n"
     ]
    }
   ],
   "source": [
    "# Working with sequences\n",
    "from Bio.Seq import Seq\n",
    "\n",
    "dna = Seq(\"ATGCGTACG\")\n",
    "\n",
    "# Basic operation\n",
    "print(\"DNA: \", dna, end=\"\\n\")\n",
    "print(\"RNA: \", dna.transcribe(), end=\"\\n\")\n",
    "print(\"Protein: \", dna.translate(), end=\"\\n\")\n",
    "print(\"Complement: \", dna.complement(), end=\"\\n\")\n",
    "print(\"Reverse Complement: \", dna.reverse_complement(), end=\"\\n\")"
   ]
  },
  {
   "cell_type": "markdown",
   "id": "19350c90",
   "metadata": {},
   "source": [
    "# DNA\n",
    "**Structure and shape:** double-stranded molecule forming a double helix<br>\n",
    "**Strand:** Each strand is made of nucleotides. The strands are held together by hydrogen bonds.<br>\n",
    "**Nucleotide:** Sugar molecule (Deoxyribose) + Phosphate group + One of four nitrogenous bases<br>\n",
    "**Nitrogenous bases:** Adenine (A), Guanine (G), Thymine (T), Cytosine (C)<br>\n",
    "*A* pairs with *T* and *G* with *C*<br>\n",
    "\n",
    "# RNA\n",
    "**Structure** single-stranded molecule<br>\n",
    "**Strand:** made of nucleotides.<br>\n",
    "**Nucleotide:** Sugar molecule (Ribose) + Phosphate group + One of four nitrogenous bases<br>\n",
    "**Nitrogenous bases:** Adenine (A), Guanine (G), Uracil (U), Cytosine (C)<br>\n",
    "\n",
    "# TRANSCRIPTION\n",
    "DNA's genetic code is copied into mRNA in the nucleus.<br>\n",
    "**Example:**<br>\n",
    "Template strand: ATGCGTACG<br>\n",
    "Transcribed mRNA: UACGCAUGC<br>\n",
    "\n",
    "ATGCGTACG is part of the template strand (3' → 5'), which RNA polymerase reads to synthesize mRNA.<br>\n",
    "Its complementary DNA strand is TACGCATGC, known as the coding strand (5' → 3').<br>\n",
    "It is called the coding strand because its sequence matches the mRNA (except that thymine T is replaced with uracil U in RNA).<br>\n",
    "\n",
    "_transcribe()_ takes in the DNA (template) strand and returns the corresponding mRNA strand.<br>\n",
    "\n",
    "# TRANSLATION\n",
    "The mRNA exits the nucleus and enters the ribosome in the cytoplasm, where tRNA brings amino acids based on the codons in the mRNA.<br>\n",
    "The ribosome links these amino acids into a growing polypeptide (protein).<br>\n",
    "\n",
    "_translate()_ takes in mRNA and gives amino acid sequence<br>\n",
    "\n",
    "_complement()_ returns the complementary DNA strand<br>\n",
    "*reverse_complement()* returns the reverse complement<br>"
   ]
  },
  {
   "cell_type": "markdown",
   "id": "e5a1dbfb",
   "metadata": {},
   "source": [
    "# Bio.Seq\n",
    "\n",
    "The Bio.Seq module provides tools to create, manipulate, and analyze biological sequences.<br>\n",
    "\n",
    "**Key Features of Bio.Seq**<br>\n",
    "**Sequence Creation:** Represent DNA, RNA, or protein sequences as Seq objects.<br>\n",
    "**Sequence Operations:** Perform biological transformations (e.g., transcription, translation) and string-like operations (e.g., slicing, searching).<br>\n",
    "**Alphabets:** Specify sequence type (DNA, RNA, protein) for validation (though deprecated in newer versions, still useful for context).<br>\n",
    "**Integration:** Works seamlessly with other Biopython modules like SeqIO and SeqUtils.<br>"
   ]
  },
  {
   "cell_type": "markdown",
   "id": "7e9018db",
   "metadata": {},
   "source": [
    "# Seq Objects\n",
    "\n",
    "A Seq object is like a Python string.<br>\n",
    "They are designed for biological sequences with methods for biological operation<br>"
   ]
  },
  {
   "cell_type": "code",
   "execution_count": null,
   "id": "823b96e3",
   "metadata": {},
   "outputs": [
    {
     "name": "stdout",
     "output_type": "stream",
     "text": [
      "DNA Sequence:  ATGCGXACGTTAGCT\n",
      "Type:  <class 'Bio.Seq.Seq'>\n",
      "Length:  15\n"
     ]
    }
   ],
   "source": [
    "# creating a Seq Object\n",
    "from Bio.Seq import Seq\n",
    "dna = Seq(\"ATGCGACGTTAGCT\") # create a DNA sequence\n",
    "\n",
    "print(\"DNA Sequence: \", dna, end=\"\\n\")\n",
    "print(\"Type: \", type(dna))\n",
    "print(\"Length: \", len(dna))"
   ]
  },
  {
   "cell_type": "code",
   "execution_count": null,
   "id": "507b7bd9",
   "metadata": {},
   "outputs": [
    {
     "name": "stdout",
     "output_type": "stream",
     "text": [
      "first 6 nucleotides:  ATGCGT\n",
      "last 3 nucleotides: GCT\n",
      "combiend variant 1:  ATGCGTACGTTAGCTGCTTAG\n",
      "combiend variant 1:  GCTTAGATGCGTACGTTAGCT\n",
      "CGT appeared 2 time/s\n",
      "upper case:  ATGCGTACGTTAGCT\n",
      "upper case:  atgcgtacgttagct\n"
     ]
    }
   ],
   "source": [
    "# String-like operations\n",
    "from Bio.Seq import Seq\n",
    "dna = Seq(\"ATGCGTACGTTAGCT\")\n",
    "\n",
    "#slicing - extract parts of a sequence\n",
    "print(\"first 6 nucleotides: \", dna[:6], end=\"\\n\")\n",
    "print(\"last 3 nucleotides:\", dna[-3:], end=\"\\n\")\n",
    "\n",
    "# concatenation\n",
    "dna_2 = Seq(\"GCTTAG\")\n",
    "combined = dna + dna_2\n",
    "print(\"combiend variant 1: \", combined, end=\"\\n\")\n",
    "combined = dna_2 + dna\n",
    "print(\"combiend variant 1: \", combined, end=\"\\n\")\n",
    "\n",
    "# searching\n",
    "motif = \"CGT\"\n",
    "count = str(dna).count(motif)\n",
    "print(f\"{motif} appeared {count} time/s\")\n",
    "\n",
    "# upper or lower case\n",
    "print(\"upper case: \", dna.upper())\n",
    "print(\"upper case: \", dna.lower())"
   ]
  },
  {
   "cell_type": "code",
   "execution_count": 6,
   "id": "475de19f",
   "metadata": {},
   "outputs": [
    {
     "name": "stdout",
     "output_type": "stream",
     "text": [
      "complementary strand:  TACGCATGCAATCGA\n",
      "mRNA:  AUGCGUACGUUAGCU\n",
      "protein:  MRTLA\n",
      "reverse complement:  AGCTAACGTACGCAT\n"
     ]
    }
   ],
   "source": [
    "# biological operations\n",
    "from Bio.Seq import Seq\n",
    "dna = Seq(\"ATGCGTACGTTAGCT\") # it is a coding strand, 5' to 3'\n",
    "\n",
    "print(\"complementary strand: \", dna.complement(), end=\"\\n\") # output: template strand, 3' to 5'\n",
    "print(\"mRNA: \", dna.transcribe(), end=\"\\n\")\n",
    "print(\"protein: \", dna.translate(), end=\"\\n\")\n",
    "print(\"reverse complement: \", dna.reverse_complement(), end=\"\\n\")"
   ]
  },
  {
   "cell_type": "code",
   "execution_count": 7,
   "id": "ede241d8",
   "metadata": {},
   "outputs": [
    {
     "name": "stdout",
     "output_type": "stream",
     "text": [
      "type:  <class 'Bio.Seq.Seq'>\n",
      "DNA:  ATGCGTACGTTAGCT\n"
     ]
    }
   ],
   "source": [
    "# Reverse transcription\n",
    "from Bio.Seq import Seq\n",
    "rna = Seq(\"AUGCGUACGUUAGCU\")\n",
    "print(\"type: \", type(rna), end=\"\\n\")\n",
    "\n",
    "print(\"DNA: \", rna.back_transcribe(), end=\"\\n\")"
   ]
  },
  {
   "cell_type": "markdown",
   "id": "a01b5378",
   "metadata": {},
   "source": [
    "# HANDLING AMBIGUITY\n",
    "\n",
    "## IUPAC Ambiguous Base Codes\n",
    "The International Union of Pure and Applied Chemistry (IUPAC) defines standard codes for ambiguous nucleotides.<br>\n",
    "\n",
    "Here are the common ones for DNA:<br>\n",
    "<ol>\n",
    "    <li><b>N:</b> Any nucleotide (A, T, G, or C)</li>\n",
    "    <li><b>R:</b> Purine (A or G)</li>\n",
    "    <li><b>Y:</b> Pyrimidine (C or T)</li>\n",
    "    <li><b>S:</b> Strong (G or C)</li>\n",
    "    <li><b>W:</b> Weak (A or T)</li>\n",
    "    <li><b>K:</b> Keto (G or T)</li>\n",
    "    <li><b>M:</b> Amino (A or C)</li>\n",
    "    <li><b>B:</b> Not A (C, G, or T)</li>\n",
    "    <li><b>D:</b> Not C (A, G, or T)</li>\n",
    "    <li><b>H:</b> Not G (A, C, or T)</li>\n",
    "    <li><b>V:</b> Not T (A, C, or G)</li>\n",
    "</ol>\n",
    "For RNA, replace T with U (e.g., Y = C or U). These codes are case-insensitive in Biopython.<br>"
   ]
  },
  {
   "cell_type": "code",
   "execution_count": 1,
   "id": "39d9bc20",
   "metadata": {},
   "outputs": [
    {
     "name": "stdout",
     "output_type": "stream",
     "text": [
      "DNA:  ATGNGTRCG\n",
      "Complement:  TACNCAYGC\n",
      "Reverse Complement:  CGYACNCAT\n",
      "RNA:  AUGNGURCG\n",
      "Protein:  MXX\n",
      "\n",
      "RNA:  AUGNGURCG\n",
      "DNA:  ATGNGTRCG\n"
     ]
    }
   ],
   "source": [
    "from Bio.Seq import Seq\n",
    "\n",
    "dna = Seq(\"ATGNGTRCG\")\n",
    "\n",
    "print(\"DNA: \", dna, end=\"\\n\")\n",
    "print(\"Complement: \", dna.complement(), end=\"\\n\")\n",
    "print(\"Reverse Complement: \", dna.reverse_complement(), end=\"\\n\")\n",
    "rna = dna.transcribe()\n",
    "print(\"RNA: \", rna, end=\"\\n\")\n",
    "\n",
    "protein = dna.translate()\n",
    "print(\"Protein: \", protein, end=\"\\n\\n\")\n",
    "\n",
    "dna = rna.back_transcribe()\n",
    "print(\"RNA: \", rna, end=\"\\n\")\n",
    "print(\"DNA: \", dna, end=\"\\n\")"
   ]
  }
 ],
 "metadata": {
  "kernelspec": {
   "display_name": ".biovenv",
   "language": "python",
   "name": "python3"
  },
  "language_info": {
   "codemirror_mode": {
    "name": "ipython",
    "version": 3
   },
   "file_extension": ".py",
   "mimetype": "text/x-python",
   "name": "python",
   "nbconvert_exporter": "python",
   "pygments_lexer": "ipython3",
   "version": "3.13.3"
  }
 },
 "nbformat": 4,
 "nbformat_minor": 5
}
